{
 "cells": [
  {
   "cell_type": "code",
   "execution_count": 55,
   "metadata": {},
   "outputs": [
    {
     "name": "stderr",
     "output_type": "stream",
     "text": [
      "/home/mangy007/anaconda3/lib/python3.7/importlib/_bootstrap.py:219: RuntimeWarning: numpy.ufunc size changed, may indicate binary incompatibility. Expected 216, got 192\n",
      "  return f(*args, **kwds)\n"
     ]
    }
   ],
   "source": [
    "import spacy\n",
    "from spacy import displacy\n",
    "from spacy.matcher import Matcher\n",
    "\n",
    "import networkx as nx\n",
    "import matplotlib.pyplot as plt\n",
    "import pandas as pd"
   ]
  },
  {
   "cell_type": "code",
   "execution_count": 4,
   "metadata": {},
   "outputs": [
    {
     "name": "stderr",
     "output_type": "stream",
     "text": [
      "/home/mangy007/anaconda3/lib/python3.7/importlib/_bootstrap.py:219: RuntimeWarning: numpy.ufunc size changed, may indicate binary incompatibility. Expected 176 from C header, got 216 from PyObject\n",
      "  return f(*args, **kwds)\n"
     ]
    }
   ],
   "source": [
    "nlp = spacy.load('en_core_web_sm')"
   ]
  },
  {
   "cell_type": "code",
   "execution_count": 33,
   "metadata": {},
   "outputs": [],
   "source": [
    "# text = 'Usain St Leo Bolt, OJ, CD is a Jamaican former sprinter. He is a world record holder in the 100 metres, 200 metres and 4 × 100 metres relay. Owing to his achievements and dominance in sprint competition, he is widely considered to be the greatest sprinter of all time.'\n",
    "text = '''Usain Bolt says he 'is ready' to play in the NFL if the Patriots or Packers' quarterback Aaron Rodgers ever came calling. \n",
    "\n",
    "The Olympic sprint champion, 33, told TMZ he would consider taking up American football for the right team after he tied the quickest ever NFL 40-yard dash with no warm-up and wearing tracksuit and trainers. \n",
    "\n",
    "When probed what it would take for him to play Bolt replied: 'If the Patriots or Aaron Rodgers call me. If they call me, I'm ready.'\n",
    "\n",
    "The eight-time Olympic gold medalist is also confident about his chances of success, saying 'of course' when asked if he would win a championship with the Patriots.'''"
   ]
  },
  {
   "cell_type": "code",
   "execution_count": 34,
   "metadata": {},
   "outputs": [],
   "source": [
    "doc = nlp(text)"
   ]
  },
  {
   "cell_type": "code",
   "execution_count": 35,
   "metadata": {},
   "outputs": [],
   "source": [
    "def get_entities(sent):\n",
    "    ent1 = ''\n",
    "    ent2 = ''\n",
    "\n",
    "    prev_tok_dep = ''\n",
    "    prev_tok_text = ''\n",
    "\n",
    "    prefix = ''\n",
    "    modifier = ''\n",
    "    \n",
    "    for token in sent:\n",
    "        if token.dep_ != 'punct':\n",
    "            if token.dep_ == 'compound':\n",
    "                prefix = token.text\n",
    "                if prev_tok_dep == \"compound\":\n",
    "                    prefix = prev_tok_text + \" \"+ token.text\n",
    "            if token.dep_.endswith(\"mod\") == True:\n",
    "                modifier = token.text\n",
    "                if prev_tok_dep == \"compound\":\n",
    "                    modifier = prev_tok_text + \" \"+ token.text\n",
    "            if token.dep_.find(\"subj\") == True:\n",
    "                ent1 = modifier +\" \"+ prefix + \" \"+ token.text\n",
    "                prefix = \"\"\n",
    "                modifier = \"\"\n",
    "                prev_tok_dep = \"\"\n",
    "                prev_tok_text = \"\"\n",
    "            if token.dep_.find(\"obj\") == True:\n",
    "                ent2 = modifier +\" \"+ prefix +\" \"+ token.text\n",
    "\n",
    "            prev_tok_dep = token.dep_\n",
    "            prev_tok_text = token.text\n",
    "            \n",
    "    return [ent1.strip(), ent2.strip()]"
   ]
  },
  {
   "cell_type": "code",
   "execution_count": 37,
   "metadata": {
    "collapsed": true
   },
   "outputs": [
    {
     "name": "stdout",
     "output_type": "stream",
     "text": [
      "Usain - compound\n",
      "Bolt - nsubj\n",
      "says - ROOT\n",
      "he - nsubj\n",
      "' - punct\n",
      "is - ccomp\n",
      "ready - acomp\n",
      "' - punct\n",
      "to - aux\n",
      "play - xcomp\n",
      "in - prep\n",
      "the - det\n",
      "NFL - pobj\n",
      "if - mark\n",
      "the - det\n",
      "Patriots - poss\n",
      "or - cc\n",
      "Packers - conj\n",
      "' - case\n",
      "quarterback - nsubj\n",
      "Aaron - compound\n",
      "Rodgers - appos\n",
      "ever - advmod\n",
      "came - advcl\n",
      "calling - xcomp\n",
      ". - punct\n",
      "\n",
      "\n",
      " - \n",
      "The - det\n",
      "Olympic - amod\n",
      "sprint - compound\n",
      "champion - nsubj\n",
      ", - punct\n",
      "33 - appos\n",
      ", - punct\n",
      "told - ROOT\n",
      "TMZ - dobj\n",
      "he - nsubj\n",
      "would - aux\n",
      "consider - ccomp\n",
      "taking - xcomp\n",
      "up - prt\n",
      "American - amod\n",
      "football - dobj\n",
      "for - prep\n",
      "the - det\n",
      "right - amod\n",
      "team - pobj\n",
      "after - mark\n",
      "he - nsubj\n",
      "tied - advcl\n",
      "the - det\n",
      "quickest - amod\n",
      "ever - advmod\n",
      "NFL - nmod\n",
      "40-yard - nummod\n",
      "dash - dobj\n",
      "with - prep\n",
      "no - det\n",
      "warm - compound\n",
      "- - punct\n",
      "up - pobj\n",
      "and - cc\n",
      "wearing - conj\n",
      "tracksuit - dobj\n",
      "and - cc\n",
      "trainers - conj\n",
      ". - punct\n",
      "\n",
      "\n",
      " - \n",
      "When - advmod\n",
      "probed - advcl\n",
      "what - dobj\n",
      "it - nsubj\n",
      "would - aux\n",
      "take - ccomp\n",
      "for - mark\n",
      "him - nsubj\n",
      "to - aux\n",
      "play - advcl\n",
      "Bolt - dobj\n",
      "replied - ROOT\n",
      ": - punct\n",
      "' - punct\n",
      "If - mark\n",
      "the - det\n",
      "Patriots - nsubj\n",
      "or - cc\n",
      "Aaron - compound\n",
      "Rodgers - conj\n",
      "call - advcl\n",
      "me - dobj\n",
      ". - punct\n",
      "If - mark\n",
      "they - nsubj\n",
      "call - advcl\n",
      "me - dobj\n",
      ", - punct\n",
      "I - nsubj\n",
      "'m - ROOT\n",
      "ready - acomp\n",
      ". - punct\n",
      "' - punct\n",
      "\n",
      "\n",
      " - \n",
      "The - det\n",
      "eight - nummod\n",
      "- - punct\n",
      "time - nmod\n",
      "Olympic - amod\n",
      "gold - compound\n",
      "medalist - nsubj\n",
      "is - ROOT\n",
      "also - advmod\n",
      "confident - acomp\n",
      "about - prep\n",
      "his - poss\n",
      "chances - pobj\n",
      "of - prep\n",
      "success - pobj\n",
      ", - punct\n",
      "saying - advcl\n",
      "' - punct\n",
      "of - prep\n",
      "course - pobj\n",
      "' - punct\n",
      "when - advmod\n",
      "asked - pcomp\n",
      "if - mark\n",
      "he - nsubj\n",
      "would - aux\n",
      "win - ccomp\n",
      "a - det\n",
      "championship - dobj\n",
      "with - prep\n",
      "the - det\n",
      "Patriots - pobj\n",
      ". - punct\n"
     ]
    }
   ],
   "source": [
    "for sent in doc.sents:\n",
    "    for token in sent:\n",
    "        print(token.text,'-',token.dep_)"
   ]
  },
  {
   "cell_type": "code",
   "execution_count": 42,
   "metadata": {},
   "outputs": [],
   "source": [
    "def get_relation(sent):\n",
    "    matcher = Matcher(nlp.vocab)\n",
    "    doc = nlp(sent)\n",
    "    pattern = [{'DEP':'ROOT'},\n",
    "               {'DEP':'prep','OP':'?'},\n",
    "               {'DEP':'agent','OP':'?'},\n",
    "               {'POS':'ADJ','OP':'?'}]\n",
    "    matcher.add('pattern_1',None,pattern)\n",
    "    matches = matcher(doc)\n",
    "    span = doc[matches[0][1]:matches[0][2]]\n",
    "    return span.text"
   ]
  },
  {
   "cell_type": "code",
   "execution_count": 44,
   "metadata": {},
   "outputs": [],
   "source": [
    "source = []\n",
    "target = []\n",
    "relation = []\n",
    "for sent in doc.sents:\n",
    "    x,y = get_entities(sent)\n",
    "    z = get_relation(sent.text)\n",
    "    source.append(x)\n",
    "    target.append(y)\n",
    "    relation.append(z)"
   ]
  },
  {
   "cell_type": "code",
   "execution_count": 56,
   "metadata": {},
   "outputs": [],
   "source": [
    "kg_df = pd.DataFrame({'source':source,'target':target,'edge':relation})"
   ]
  },
  {
   "cell_type": "code",
   "execution_count": 57,
   "metadata": {},
   "outputs": [],
   "source": [
    "G = nx.from_pandas_edgelist(kg_df, \"source\", \"target\", edge_attr=True, create_using=nx.MultiDiGraph())"
   ]
  },
  {
   "cell_type": "code",
   "execution_count": 62,
   "metadata": {},
   "outputs": [
    {
     "data": {
      "image/png": "[encoded data removed]",
      "text/plain": [
       "<Figure size 648x648 with 1 Axes>"
      ]
     },
     "metadata": {},
     "output_type": "display_data"
    }
   ],
   "source": [
    "plt.figure(figsize=(9,9))\n",
    "\n",
    "pos = nx.spring_layout(G)\n",
    "nx.draw(G, with_labels=True, node_color='skyblue', edge_cmap=plt.cm.Blues, pos = pos)\n",
    "plt.show()"
   ]
  },
  {
   "cell_type": "code",
   "execution_count": 65,
   "metadata": {},
   "outputs": [
    {
     "data": {
      "image/png": "[encoded data removed]",
      "text/plain": [
       "<Figure size 576x576 with 1 Axes>"
      ]
     },
     "metadata": {},
     "output_type": "display_data"
    }
   ],
   "source": [
    "G=nx.from_pandas_edgelist(kg_df[kg_df['edge']==\"call\"], \"source\", \"target\", \n",
    "                          edge_attr=True, create_using=nx.MultiDiGraph())\n",
    "\n",
    "plt.figure(figsize=(8,8))\n",
    "pos = nx.spring_layout(G, k = 0.5)\n",
    "nx.draw(G, with_labels=True, node_color='skyblue', node_size=1500, edge_cmap=plt.cm.Blues, pos = pos)\n",
    "plt.show()"
   ]
  },
  {
   "cell_type": "code",
   "execution_count": null,
   "metadata": {},
   "outputs": [],
   "source": []
  }
 ],
 "metadata": {
  "kernelspec": {
   "display_name": "Python 3",
   "language": "python",
   "name": "python3"
  },
  "language_info": {
   "codemirror_mode": {
    "name": "ipython",
    "version": 3
   },
   "file_extension": ".py",
   "mimetype": "text/x-python",
   "name": "python",
   "nbconvert_exporter": "python",
   "pygments_lexer": "ipython3",
   "version": "3.7.4"
  }
 },
 "nbformat": 4,
 "nbformat_minor": 2
}
