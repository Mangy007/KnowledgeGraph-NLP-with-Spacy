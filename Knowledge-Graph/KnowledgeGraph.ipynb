{
 "cells": [
  {
   "cell_type": "code",
   "execution_count": 2,
   "metadata": {},
   "outputs": [],
   "source": [
    "import spacy\n",
    "from spacy import displacy\n",
    "from spacy.matcher import Matcher\n",
    "from spacy.tokens import Span"
   ]
  },
  {
   "cell_type": "code",
   "execution_count": 4,
   "metadata": {},
   "outputs": [
    {
     "name": "stderr",
     "output_type": "stream",
     "text": [
      "/home/mangy007/anaconda3/lib/python3.7/importlib/_bootstrap.py:219: RuntimeWarning: numpy.ufunc size changed, may indicate binary incompatibility. Expected 176 from C header, got 216 from PyObject\n",
      "  return f(*args, **kwds)\n"
     ]
    }
   ],
   "source": [
    "nlp = spacy.load('en_core_web_sm')"
   ]
  },
  {
   "cell_type": "code",
   "execution_count": 26,
   "metadata": {},
   "outputs": [],
   "source": [
    "text = 'Usain St Leo Bolt, OJ, CD is a Jamaican former sprinter. He is a world record holder in the 100 metres, 200 metres and 4 × 100 metres relay. Owing to his achievements and dominance in sprint competition, he is widely considered to be the greatest sprinter of all time.'"
   ]
  },
  {
   "cell_type": "code",
   "execution_count": 27,
   "metadata": {},
   "outputs": [],
   "source": [
    "doc = nlp(text)"
   ]
  },
  {
   "cell_type": "code",
   "execution_count": 19,
   "metadata": {},
   "outputs": [],
   "source": [
    "def get_entities(sent):\n",
    "    ent1 = ''\n",
    "    ent2 = ''\n",
    "\n",
    "    prev_tok_dep = ''\n",
    "    prev_tok_text = ''\n",
    "\n",
    "    prefix = ''\n",
    "    modifier = ''\n",
    "    \n",
    "    for token in sent:\n",
    "        if token.dep_ != 'punct':\n",
    "            if token.dep_ != 'compound':\n",
    "                prefix = token.text\n",
    "                if prev_tok_dep == \"compound\":\n",
    "                    prefix = prev_tok_text + \" \"+ token.text\n",
    "            if token.dep_.endswith(\"mod\") == True:\n",
    "                modifier = token.text\n",
    "                if prev_tok_dep == \"compound\":\n",
    "                    modifier = prev_tok_text + \" \"+ token.text\n",
    "            if token.dep_.find(\"subj\") == True:\n",
    "                ent1 = modifier +\" \"+ prefix + \" \"+ token.text\n",
    "                prefix = \"\"\n",
    "                modifier = \"\"\n",
    "                prev_tok_dep = \"\"\n",
    "                prev_tok_text = \"\"\n",
    "            if token.dep_.find(\"obj\") == True:\n",
    "                ent2 = modifier +\" \"+ prefix +\" \"+ token.text\n",
    "\n",
    "            prev_tok_dep = token.dep_\n",
    "            prev_tok_text = token.text\n",
    "            \n",
    "    return [ent1.strip(), ent2.strip()]"
   ]
  },
  {
   "cell_type": "code",
   "execution_count": 29,
   "metadata": {},
   "outputs": [
    {
     "name": "stdout",
     "output_type": "stream",
     "text": [
      "['CD CD', '']\n",
      "['He He', '100 metres metres']\n",
      "['he he', 'greatest time time']\n"
     ]
    }
   ],
   "source": [
    "for sent in doc.sents:\n",
    "    print(get_entities(sent))"
   ]
  },
  {
   "cell_type": "code",
   "execution_count": 30,
   "metadata": {},
   "outputs": [
    {
     "name": "stdout",
     "output_type": "stream",
     "text": [
      "Usain - compound\n",
      "St - compound\n",
      "Leo - compound\n",
      "Bolt - nsubj\n",
      ", - punct\n",
      "OJ - appos\n",
      ", - punct\n",
      "CD - nsubj\n",
      "is - ROOT\n",
      "a - det\n",
      "Jamaican - amod\n",
      "former - amod\n",
      "sprinter - attr\n",
      ". - punct\n",
      "He - nsubj\n",
      "is - ROOT\n",
      "a - det\n",
      "world - compound\n",
      "record - compound\n",
      "holder - attr\n",
      "in - prep\n",
      "the - det\n",
      "100 - nummod\n",
      "metres - pobj\n",
      ", - punct\n",
      "200 - nummod\n",
      "metres - conj\n",
      "and - cc\n",
      "4 - quantmod\n",
      "× - compound\n",
      "100 - nummod\n",
      "metres - compound\n",
      "relay - conj\n",
      ". - punct\n",
      "Owing - advcl\n",
      "to - prep\n",
      "his - poss\n",
      "achievements - pobj\n",
      "and - cc\n",
      "dominance - conj\n",
      "in - prep\n",
      "sprint - compound\n",
      "competition - pobj\n",
      ", - punct\n",
      "he - nsubjpass\n",
      "is - auxpass\n",
      "widely - advmod\n",
      "considered - ROOT\n",
      "to - aux\n",
      "be - xcomp\n",
      "the - det\n",
      "greatest - amod\n",
      "sprinter - attr\n",
      "of - prep\n",
      "all - det\n",
      "time - pobj\n",
      ". - punct\n"
     ]
    }
   ],
   "source": [
    "for sent in doc.sents:\n",
    "    for token in sent:\n",
    "        print(token.text,'-',token.dep_)"
   ]
  },
  {
   "cell_type": "code",
   "execution_count": null,
   "metadata": {},
   "outputs": [],
   "source": []
  }
 ],
 "metadata": {
  "kernelspec": {
   "display_name": "Python 3",
   "language": "python",
   "name": "python3"
  },
  "language_info": {
   "codemirror_mode": {
    "name": "ipython",
    "version": 3
   },
   "file_extension": ".py",
   "mimetype": "text/x-python",
   "name": "python",
   "nbconvert_exporter": "python",
   "pygments_lexer": "ipython3",
   "version": "3.7.4"
  }
 },
 "nbformat": 4,
 "nbformat_minor": 2
}
